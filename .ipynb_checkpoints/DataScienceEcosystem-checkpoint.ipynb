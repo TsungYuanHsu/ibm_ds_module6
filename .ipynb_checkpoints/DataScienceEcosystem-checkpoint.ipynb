{
 "cells": [
  {
   "cell_type": "markdown",
   "id": "2bed6165-bdd7-4b9a-af7c-f769bb15f122",
   "metadata": {},
   "source": [
    "# Data Science Tools and Ecosystem"
   ]
  },
  {
   "cell_type": "markdown",
   "id": "b5850034-2b04-4643-ace9-8e01b37b1ecf",
   "metadata": {},
   "source": [
    "In this notebook, Data Science Tools and Ecosystem are summarized."
   ]
  },
  {
   "cell_type": "markdown",
   "id": "e8f2b2c6-488d-4a2d-91fd-97bb410b4aef",
   "metadata": {},
   "source": [
    "Some of the popular languages that Data Scientists use are:\n",
    "1. python\n",
    "2. R\n",
    "3. JavaScript\n",
    "4. C++"
   ]
  },
  {
   "cell_type": "markdown",
   "id": "501a91f7-2136-4162-a70b-3173d5fb90e5",
   "metadata": {},
   "source": [
    "Some of the commonly used libraries used by Data Scientists include:\n",
    "1. pandas\n",
    "2. numpy\n",
    "3. matplotlib\n",
    "4. seaborn\n",
    "5. scikit-learn\n",
    "6. tensorflow\n",
    "7. pytorch"
   ]
  },
  {
   "cell_type": "markdown",
   "id": "4a137b7f-5f7a-440f-95c1-2ac014e7681a",
   "metadata": {},
   "source": [
    "| Data Science Tools|\n",
    "| ---------------- |\n",
    "| Pycharm |\n",
    "| VisualStudio code |\n",
    "| Jupyter Notebook |"
   ]
  },
  {
   "cell_type": "markdown",
   "id": "ea8baff8-48db-4f92-ada3-a6eae85586fa",
   "metadata": {},
   "source": [
    "### Below are a few examples of evaluating arithmetic expressions in Python"
   ]
  },
  {
   "cell_type": "markdown",
   "id": "a7a7fb9d-fd81-4ae5-93e1-dced0eff7d43",
   "metadata": {},
   "source": [
    "This is a simple arithmetic expression to mutiply then add integers"
   ]
  },
  {
   "cell_type": "code",
   "execution_count": 12,
   "id": "354b1f19-7224-4447-a8d9-fc25543bee64",
   "metadata": {
    "scrolled": true
   },
   "outputs": [
    {
     "name": "stdout",
     "output_type": "stream",
     "text": [
      "(3 * 4) + 5 is 17\n"
     ]
    }
   ],
   "source": [
    "r = (3 * 4) + 5\n",
    "print('(3 * 4) + 5 is', r)"
   ]
  },
  {
   "cell_type": "markdown",
   "id": "bcba8253-0d93-4c5c-9c89-a7f908b33102",
   "metadata": {},
   "source": [
    "This will convert 200 minutes to hours by diving by 60"
   ]
  },
  {
   "cell_type": "code",
   "execution_count": 13,
   "id": "2d516396-58ba-4bac-8015-6d2ba5e6d664",
   "metadata": {},
   "outputs": [
    {
     "name": "stdout",
     "output_type": "stream",
     "text": [
      "200 mins is 3.3333333333333335 hrs\n"
     ]
    }
   ],
   "source": [
    "min = 200\n",
    "hours = min / 60\n",
    "print(f'{min} mins is {hours} hrs')"
   ]
  },
  {
   "cell_type": "markdown",
   "id": "3bd15e65-910e-44a6-aa89-72f870248355",
   "metadata": {},
   "source": [
    "**Objectives:**\n",
    "- List down popular programming languages used in data science field\n",
    "- List down popular libraries used in data science field\n",
    "- List down 3 development environments in data science field in table\n",
    "- Simply demonstrate mathmetic calculation\n",
    "- Simply convert minutes value to hours value\n"
   ]
  },
  {
   "cell_type": "markdown",
   "id": "e92813fd-8f14-461e-8a68-ff078fad196c",
   "metadata": {},
   "source": [
    "## Author\n",
    "Tsung Yuan Hsu"
   ]
  },
  {
   "cell_type": "code",
   "execution_count": null,
   "id": "4b208efc-c413-404d-a347-25befcfe10b9",
   "metadata": {},
   "outputs": [],
   "source": []
  }
 ],
 "metadata": {
  "kernelspec": {
   "display_name": "Python 3 (ipykernel)",
   "language": "python",
   "name": "python3"
  },
  "language_info": {
   "codemirror_mode": {
    "name": "ipython",
    "version": 3
   },
   "file_extension": ".py",
   "mimetype": "text/x-python",
   "name": "python",
   "nbconvert_exporter": "python",
   "pygments_lexer": "ipython3",
   "version": "3.9.7"
  }
 },
 "nbformat": 4,
 "nbformat_minor": 5
}
