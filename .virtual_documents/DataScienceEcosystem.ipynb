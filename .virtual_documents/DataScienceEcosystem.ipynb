

















# This is a simple arithmetic expression to mutiply then add integers
r = (3 * 4) + 5
print('(3 * 4) + 5 is', r)


# This will convert 200 minutes to hours by diving by 60
min = 200
hours = min / 60
print(f'{min} mins is {hours} hrs')









